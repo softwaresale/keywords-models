{
 "cells": [
  {
   "cell_type": "code",
   "execution_count": 3,
   "metadata": {
    "execution": {
     "iopub.execute_input": "2025-05-09T00:32:08.517671Z",
     "iopub.status.busy": "2025-05-09T00:32:08.517366Z",
     "iopub.status.idle": "2025-05-09T00:32:37.981773Z",
     "shell.execute_reply": "2025-05-09T00:32:37.980790Z",
     "shell.execute_reply.started": "2025-05-09T00:32:08.517635Z"
    },
    "trusted": true
   },
   "outputs": [
    {
     "name": "stderr",
     "output_type": "stream",
     "text": [
      "2025-05-09 00:32:24.450670: E external/local_xla/xla/stream_executor/cuda/cuda_fft.cc:477] Unable to register cuFFT factory: Attempting to register factory for plugin cuFFT when one has already been registered\n",
      "WARNING: All log messages before absl::InitializeLog() is called are written to STDERR\n",
      "E0000 00:00:1746750744.673565      31 cuda_dnn.cc:8310] Unable to register cuDNN factory: Attempting to register factory for plugin cuDNN when one has already been registered\n",
      "E0000 00:00:1746750744.735413      31 cuda_blas.cc:1418] Unable to register cuBLAS factory: Attempting to register factory for plugin cuBLAS when one has already been registered\n",
      "/usr/local/lib/python3.11/dist-packages/fuzzywuzzy/fuzz.py:11: UserWarning: Using slow pure-python SequenceMatcher. Install python-Levenshtein to remove this warning\n",
      "  warnings.warn('Using slow pure-python SequenceMatcher. Install python-Levenshtein to remove this warning')\n"
     ]
    }
   ],
   "source": [
    "import pandas as pd\n",
    "import numpy as np\n",
    "import json\n",
    "from datasets import Dataset, Value, Sequence\n",
    "from transformers import AutoTokenizer, AutoModelForSequenceClassification, TrainingArguments, Trainer\n",
    "from sklearn.preprocessing import MultiLabelBinarizer\n",
    "from sklearn.metrics import average_precision_score, precision_score, recall_score, f1_score\n",
    "from fuzzywuzzy import fuzz\n",
    "from tqdm import tqdm\n",
    "import torch"
   ]
  },
  {
   "cell_type": "code",
   "execution_count": 4,
   "metadata": {
    "execution": {
     "iopub.execute_input": "2025-05-09T00:32:37.984038Z",
     "iopub.status.busy": "2025-05-09T00:32:37.983105Z",
     "iopub.status.idle": "2025-05-09T00:32:37.987415Z",
     "shell.execute_reply": "2025-05-09T00:32:37.986615Z",
     "shell.execute_reply.started": "2025-05-09T00:32:37.984014Z"
    },
    "trusted": true
   },
   "outputs": [],
   "source": [
    "import os\n",
    "os.environ[\"WANDB_DISABLED\"] = \"true\""
   ]
  },
  {
   "cell_type": "code",
   "execution_count": 5,
   "metadata": {
    "execution": {
     "iopub.execute_input": "2025-05-09T00:32:37.988627Z",
     "iopub.status.busy": "2025-05-09T00:32:37.988339Z",
     "iopub.status.idle": "2025-05-09T00:32:38.042309Z",
     "shell.execute_reply": "2025-05-09T00:32:38.041287Z",
     "shell.execute_reply.started": "2025-05-09T00:32:37.988601Z"
    },
    "trusted": true
   },
   "outputs": [],
   "source": [
    "device = \"cuda\" if torch.cuda.is_available() else \"cpu\""
   ]
  },
  {
   "cell_type": "code",
   "execution_count": null,
   "metadata": {
    "execution": {
     "iopub.execute_input": "2025-05-09T00:32:38.044357Z",
     "iopub.status.busy": "2025-05-09T00:32:38.044072Z",
     "iopub.status.idle": "2025-05-09T00:32:50.549096Z",
     "shell.execute_reply": "2025-05-09T00:32:50.548116Z",
     "shell.execute_reply.started": "2025-05-09T00:32:38.044331Z"
    },
    "trusted": true
   },
   "outputs": [],
   "source": [
    "train_data = []\n",
    "with open(\"data/training-data.ndjson\", \"r\", encoding=\"utf-8\") as f:\n",
    "    train_data = [json.loads(line) for line in f if line.strip()]  # skip blank lines\n",
    "train_df = pd.DataFrame(train_data)\n",
    "train_df = train_df[['abstract_content', 'keywords']]"
   ]
  },
  {
   "cell_type": "code",
   "execution_count": null,
   "metadata": {
    "execution": {
     "iopub.execute_input": "2025-05-09T00:32:50.550306Z",
     "iopub.status.busy": "2025-05-09T00:32:50.550009Z",
     "iopub.status.idle": "2025-05-09T00:32:54.792872Z",
     "shell.execute_reply": "2025-05-09T00:32:54.792257Z",
     "shell.execute_reply.started": "2025-05-09T00:32:50.550279Z"
    },
    "trusted": true
   },
   "outputs": [],
   "source": [
    "test_data = []\n",
    "with open(\"data/test-data.ndjson\", \"r\", encoding=\"utf-8\") as f:\n",
    "    test_data = [json.loads(line) for line in f if line.strip()]  # skip blank lines\n",
    "test_df = pd.DataFrame(test_data)\n",
    "test_df = test_df[['abstract_content', 'keywords']]"
   ]
  },
  {
   "cell_type": "code",
   "execution_count": 8,
   "metadata": {
    "execution": {
     "iopub.execute_input": "2025-05-09T00:32:54.793829Z",
     "iopub.status.busy": "2025-05-09T00:32:54.793585Z",
     "iopub.status.idle": "2025-05-09T00:32:54.824716Z",
     "shell.execute_reply": "2025-05-09T00:32:54.823959Z",
     "shell.execute_reply.started": "2025-05-09T00:32:54.793809Z"
    },
    "trusted": true
   },
   "outputs": [],
   "source": [
    "train_df['abstract_content'] = train_df['abstract_content'].str.replace(\"\\n\\n\", \" \", regex=False)\n",
    "train_df['abstract_content'] = train_df['abstract_content'].str.replace(\"\\n\", \" \", regex=False)\n",
    "train_df['abstract_content'] = train_df['abstract_content'].str.strip()"
   ]
  },
  {
   "cell_type": "code",
   "execution_count": 9,
   "metadata": {
    "execution": {
     "iopub.execute_input": "2025-05-09T00:32:54.826170Z",
     "iopub.status.busy": "2025-05-09T00:32:54.825828Z",
     "iopub.status.idle": "2025-05-09T00:32:54.891456Z",
     "shell.execute_reply": "2025-05-09T00:32:54.890324Z",
     "shell.execute_reply.started": "2025-05-09T00:32:54.826141Z"
    },
    "trusted": true
   },
   "outputs": [],
   "source": [
    "test_df['abstract_content'] = test_df['abstract_content'].str.replace(\"\\n\\n\", \" \", regex=False)\n",
    "test_df['abstract_content'] = test_df['abstract_content'].str.replace(\"\\n\", \" \", regex=False)\n",
    "test_df['abstract_content'] = test_df['abstract_content'].str.strip()"
   ]
  },
  {
   "cell_type": "code",
   "execution_count": 10,
   "metadata": {
    "execution": {
     "iopub.execute_input": "2025-05-09T00:32:54.892662Z",
     "iopub.status.busy": "2025-05-09T00:32:54.892380Z",
     "iopub.status.idle": "2025-05-09T00:32:54.939986Z",
     "shell.execute_reply": "2025-05-09T00:32:54.939258Z",
     "shell.execute_reply.started": "2025-05-09T00:32:54.892634Z"
    },
    "trusted": true
   },
   "outputs": [
    {
     "data": {
      "text/plain": [
       "['Video saliency prediction', 'feature alignment', 'deformable']"
      ]
     },
     "execution_count": 10,
     "metadata": {},
     "output_type": "execute_result"
    }
   ],
   "source": [
    "train_df.iloc[0, :]['keywords']"
   ]
  },
  {
   "cell_type": "code",
   "execution_count": 11,
   "metadata": {
    "execution": {
     "iopub.execute_input": "2025-05-09T00:32:54.941063Z",
     "iopub.status.busy": "2025-05-09T00:32:54.940689Z",
     "iopub.status.idle": "2025-05-09T00:32:54.998018Z",
     "shell.execute_reply": "2025-05-09T00:32:54.997324Z",
     "shell.execute_reply.started": "2025-05-09T00:32:54.941044Z"
    },
    "trusted": true
   },
   "outputs": [
    {
     "data": {
      "text/html": [
       "<style>#sk-container-id-1 {color: black;background-color: white;}#sk-container-id-1 pre{padding: 0;}#sk-container-id-1 div.sk-toggleable {background-color: white;}#sk-container-id-1 label.sk-toggleable__label {cursor: pointer;display: block;width: 100%;margin-bottom: 0;padding: 0.3em;box-sizing: border-box;text-align: center;}#sk-container-id-1 label.sk-toggleable__label-arrow:before {content: \"▸\";float: left;margin-right: 0.25em;color: #696969;}#sk-container-id-1 label.sk-toggleable__label-arrow:hover:before {color: black;}#sk-container-id-1 div.sk-estimator:hover label.sk-toggleable__label-arrow:before {color: black;}#sk-container-id-1 div.sk-toggleable__content {max-height: 0;max-width: 0;overflow: hidden;text-align: left;background-color: #f0f8ff;}#sk-container-id-1 div.sk-toggleable__content pre {margin: 0.2em;color: black;border-radius: 0.25em;background-color: #f0f8ff;}#sk-container-id-1 input.sk-toggleable__control:checked~div.sk-toggleable__content {max-height: 200px;max-width: 100%;overflow: auto;}#sk-container-id-1 input.sk-toggleable__control:checked~label.sk-toggleable__label-arrow:before {content: \"▾\";}#sk-container-id-1 div.sk-estimator input.sk-toggleable__control:checked~label.sk-toggleable__label {background-color: #d4ebff;}#sk-container-id-1 div.sk-label input.sk-toggleable__control:checked~label.sk-toggleable__label {background-color: #d4ebff;}#sk-container-id-1 input.sk-hidden--visually {border: 0;clip: rect(1px 1px 1px 1px);clip: rect(1px, 1px, 1px, 1px);height: 1px;margin: -1px;overflow: hidden;padding: 0;position: absolute;width: 1px;}#sk-container-id-1 div.sk-estimator {font-family: monospace;background-color: #f0f8ff;border: 1px dotted black;border-radius: 0.25em;box-sizing: border-box;margin-bottom: 0.5em;}#sk-container-id-1 div.sk-estimator:hover {background-color: #d4ebff;}#sk-container-id-1 div.sk-parallel-item::after {content: \"\";width: 100%;border-bottom: 1px solid gray;flex-grow: 1;}#sk-container-id-1 div.sk-label:hover label.sk-toggleable__label {background-color: #d4ebff;}#sk-container-id-1 div.sk-serial::before {content: \"\";position: absolute;border-left: 1px solid gray;box-sizing: border-box;top: 0;bottom: 0;left: 50%;z-index: 0;}#sk-container-id-1 div.sk-serial {display: flex;flex-direction: column;align-items: center;background-color: white;padding-right: 0.2em;padding-left: 0.2em;position: relative;}#sk-container-id-1 div.sk-item {position: relative;z-index: 1;}#sk-container-id-1 div.sk-parallel {display: flex;align-items: stretch;justify-content: center;background-color: white;position: relative;}#sk-container-id-1 div.sk-item::before, #sk-container-id-1 div.sk-parallel-item::before {content: \"\";position: absolute;border-left: 1px solid gray;box-sizing: border-box;top: 0;bottom: 0;left: 50%;z-index: -1;}#sk-container-id-1 div.sk-parallel-item {display: flex;flex-direction: column;z-index: 1;position: relative;background-color: white;}#sk-container-id-1 div.sk-parallel-item:first-child::after {align-self: flex-end;width: 50%;}#sk-container-id-1 div.sk-parallel-item:last-child::after {align-self: flex-start;width: 50%;}#sk-container-id-1 div.sk-parallel-item:only-child::after {width: 0;}#sk-container-id-1 div.sk-dashed-wrapped {border: 1px dashed gray;margin: 0 0.4em 0.5em 0.4em;box-sizing: border-box;padding-bottom: 0.4em;background-color: white;}#sk-container-id-1 div.sk-label label {font-family: monospace;font-weight: bold;display: inline-block;line-height: 1.2em;}#sk-container-id-1 div.sk-label-container {text-align: center;}#sk-container-id-1 div.sk-container {/* jupyter's `normalize.less` sets `[hidden] { display: none; }` but bootstrap.min.css set `[hidden] { display: none !important; }` so we also need the `!important` here to be able to override the default hidden behavior on the sphinx rendered scikit-learn.org. See: https://github.com/scikit-learn/scikit-learn/issues/21755 */display: inline-block !important;position: relative;}#sk-container-id-1 div.sk-text-repr-fallback {display: none;}</style><div id=\"sk-container-id-1\" class=\"sk-top-container\"><div class=\"sk-text-repr-fallback\"><pre>MultiLabelBinarizer()</pre><b>In a Jupyter environment, please rerun this cell to show the HTML representation or trust the notebook. <br />On GitHub, the HTML representation is unable to render, please try loading this page with nbviewer.org.</b></div><div class=\"sk-container\" hidden><div class=\"sk-item\"><div class=\"sk-estimator sk-toggleable\"><input class=\"sk-toggleable__control sk-hidden--visually\" id=\"sk-estimator-id-1\" type=\"checkbox\" checked><label for=\"sk-estimator-id-1\" class=\"sk-toggleable__label sk-toggleable__label-arrow\">MultiLabelBinarizer</label><div class=\"sk-toggleable__content\"><pre>MultiLabelBinarizer()</pre></div></div></div></div></div>"
      ],
      "text/plain": [
       "MultiLabelBinarizer()"
      ]
     },
     "execution_count": 11,
     "metadata": {},
     "output_type": "execute_result"
    }
   ],
   "source": [
    "multi_label_binarizer = MultiLabelBinarizer()\n",
    "multi_label_binarizer.fit(train_df['keywords'].tolist() + test_df['keywords'].tolist())"
   ]
  },
  {
   "cell_type": "code",
   "execution_count": 12,
   "metadata": {
    "execution": {
     "iopub.execute_input": "2025-05-09T00:32:55.000463Z",
     "iopub.status.busy": "2025-05-09T00:32:55.000213Z",
     "iopub.status.idle": "2025-05-09T00:33:03.091605Z",
     "shell.execute_reply": "2025-05-09T00:33:03.090791Z",
     "shell.execute_reply.started": "2025-05-09T00:32:55.000443Z"
    },
    "trusted": true
   },
   "outputs": [],
   "source": [
    "train_df['labels'] = multi_label_binarizer.transform(train_df['keywords']).tolist()\n",
    "test_df['labels'] = multi_label_binarizer.transform(test_df['keywords']).tolist()"
   ]
  },
  {
   "cell_type": "code",
   "execution_count": 13,
   "metadata": {
    "execution": {
     "iopub.execute_input": "2025-05-09T00:33:03.092580Z",
     "iopub.status.busy": "2025-05-09T00:33:03.092365Z",
     "iopub.status.idle": "2025-05-09T00:33:54.142771Z",
     "shell.execute_reply": "2025-05-09T00:33:54.141939Z",
     "shell.execute_reply.started": "2025-05-09T00:33:03.092563Z"
    },
    "trusted": true
   },
   "outputs": [],
   "source": [
    "train_dataset = Dataset.from_pandas(train_df[['abstract_content', 'labels']])\n",
    "test_dataset = Dataset.from_pandas(test_df[['abstract_content', 'labels']])"
   ]
  },
  {
   "cell_type": "code",
   "execution_count": 14,
   "metadata": {
    "execution": {
     "iopub.execute_input": "2025-05-09T00:33:54.144161Z",
     "iopub.status.busy": "2025-05-09T00:33:54.143753Z",
     "iopub.status.idle": "2025-05-09T00:33:54.931829Z",
     "shell.execute_reply": "2025-05-09T00:33:54.931035Z",
     "shell.execute_reply.started": "2025-05-09T00:33:54.144135Z"
    },
    "trusted": true
   },
   "outputs": [
    {
     "data": {
      "application/vnd.jupyter.widget-view+json": {
       "model_id": "82b20e677d234ad1864d39ae3e2d13c2",
       "version_major": 2,
       "version_minor": 0
      },
      "text/plain": [
       "tokenizer_config.json:   0%|          | 0.00/49.0 [00:00<?, ?B/s]"
      ]
     },
     "metadata": {},
     "output_type": "display_data"
    },
    {
     "data": {
      "application/vnd.jupyter.widget-view+json": {
       "model_id": "4a037e93bbdb473f805ab21a71406302",
       "version_major": 2,
       "version_minor": 0
      },
      "text/plain": [
       "config.json:   0%|          | 0.00/570 [00:00<?, ?B/s]"
      ]
     },
     "metadata": {},
     "output_type": "display_data"
    },
    {
     "data": {
      "application/vnd.jupyter.widget-view+json": {
       "model_id": "4addccb9e42c466bb16fe074d1bd91e9",
       "version_major": 2,
       "version_minor": 0
      },
      "text/plain": [
       "vocab.txt:   0%|          | 0.00/213k [00:00<?, ?B/s]"
      ]
     },
     "metadata": {},
     "output_type": "display_data"
    },
    {
     "data": {
      "application/vnd.jupyter.widget-view+json": {
       "model_id": "70511a97042a493fa15271082ac951cb",
       "version_major": 2,
       "version_minor": 0
      },
      "text/plain": [
       "tokenizer.json:   0%|          | 0.00/436k [00:00<?, ?B/s]"
      ]
     },
     "metadata": {},
     "output_type": "display_data"
    }
   ],
   "source": [
    "tokenizer = AutoTokenizer.from_pretrained('bert-base-cased')"
   ]
  },
  {
   "cell_type": "code",
   "execution_count": 15,
   "metadata": {
    "execution": {
     "iopub.execute_input": "2025-05-09T00:33:54.933049Z",
     "iopub.status.busy": "2025-05-09T00:33:54.932743Z",
     "iopub.status.idle": "2025-05-09T00:33:54.937609Z",
     "shell.execute_reply": "2025-05-09T00:33:54.936847Z",
     "shell.execute_reply.started": "2025-05-09T00:33:54.933022Z"
    },
    "trusted": true
   },
   "outputs": [],
   "source": [
    "def tokenize_inputs(entry):\n",
    "    return tokenizer(entry['abstract_content'], padding=\"max_length\", truncation=True, max_length=512)"
   ]
  },
  {
   "cell_type": "code",
   "execution_count": 16,
   "metadata": {
    "execution": {
     "iopub.execute_input": "2025-05-09T00:33:54.938789Z",
     "iopub.status.busy": "2025-05-09T00:33:54.938513Z",
     "iopub.status.idle": "2025-05-09T00:34:15.063876Z",
     "shell.execute_reply": "2025-05-09T00:34:15.063249Z",
     "shell.execute_reply.started": "2025-05-09T00:33:54.938762Z"
    },
    "trusted": true
   },
   "outputs": [
    {
     "data": {
      "application/vnd.jupyter.widget-view+json": {
       "model_id": "3e7b92085e634b7d845c0ccabd1b20d9",
       "version_major": 2,
       "version_minor": 0
      },
      "text/plain": [
       "Map:   0%|          | 0/8000 [00:00<?, ? examples/s]"
      ]
     },
     "metadata": {},
     "output_type": "display_data"
    },
    {
     "data": {
      "application/vnd.jupyter.widget-view+json": {
       "model_id": "7eec8c99a1ab4504bea2ac75268625f8",
       "version_major": 2,
       "version_minor": 0
      },
      "text/plain": [
       "Map:   0%|          | 0/2000 [00:00<?, ? examples/s]"
      ]
     },
     "metadata": {},
     "output_type": "display_data"
    },
    {
     "data": {
      "application/vnd.jupyter.widget-view+json": {
       "model_id": "433b9643e82b44b092fb9ae146087abe",
       "version_major": 2,
       "version_minor": 0
      },
      "text/plain": [
       "Casting the dataset:   0%|          | 0/8000 [00:00<?, ? examples/s]"
      ]
     },
     "metadata": {},
     "output_type": "display_data"
    },
    {
     "data": {
      "application/vnd.jupyter.widget-view+json": {
       "model_id": "fde81fc97cf04a1d97172a666018c3c1",
       "version_major": 2,
       "version_minor": 0
      },
      "text/plain": [
       "Casting the dataset:   0%|          | 0/2000 [00:00<?, ? examples/s]"
      ]
     },
     "metadata": {},
     "output_type": "display_data"
    }
   ],
   "source": [
    "train_tokenized = train_dataset.map(tokenize_inputs, batched=True)\n",
    "test_tokenized = test_dataset.map(tokenize_inputs, batched=True)\n",
    "\n",
    "train_tokenized.set_format(\"torch\", columns=[\"input_ids\", \"attention_mask\", \"labels\"])\n",
    "test_tokenized.set_format(\"torch\", columns=[\"input_ids\", \"attention_mask\", \"labels\"])\n",
    "\n",
    "train_tokenized = train_tokenized.cast_column(\"labels\", Sequence(Value(\"float32\")))\n",
    "test_tokenized = test_tokenized.cast_column(\"labels\", Sequence(Value(\"float32\")))"
   ]
  },
  {
   "cell_type": "code",
   "execution_count": 17,
   "metadata": {
    "execution": {
     "iopub.execute_input": "2025-05-09T00:34:15.065393Z",
     "iopub.status.busy": "2025-05-09T00:34:15.065048Z",
     "iopub.status.idle": "2025-05-09T00:34:18.189010Z",
     "shell.execute_reply": "2025-05-09T00:34:18.188172Z",
     "shell.execute_reply.started": "2025-05-09T00:34:15.065365Z"
    },
    "trusted": true
   },
   "outputs": [
    {
     "name": "stderr",
     "output_type": "stream",
     "text": [
      "Xet Storage is enabled for this repo, but the 'hf_xet' package is not installed. Falling back to regular HTTP download. For better performance, install the package with: `pip install huggingface_hub[hf_xet]` or `pip install hf_xet`\n"
     ]
    },
    {
     "data": {
      "application/vnd.jupyter.widget-view+json": {
       "model_id": "502f28b41fcc4d5ab0098d128116f427",
       "version_major": 2,
       "version_minor": 0
      },
      "text/plain": [
       "model.safetensors:   0%|          | 0.00/436M [00:00<?, ?B/s]"
      ]
     },
     "metadata": {},
     "output_type": "display_data"
    },
    {
     "name": "stderr",
     "output_type": "stream",
     "text": [
      "Some weights of BertForSequenceClassification were not initialized from the model checkpoint at bert-base-cased and are newly initialized: ['classifier.bias', 'classifier.weight']\n",
      "You should probably TRAIN this model on a down-stream task to be able to use it for predictions and inference.\n"
     ]
    }
   ],
   "source": [
    "model = AutoModelForSequenceClassification.from_pretrained('bert-base-cased',\n",
    "                                           num_labels=len(multi_label_binarizer.classes_),\n",
    "                                           problem_type=\"multi_label_classification\")"
   ]
  },
  {
   "cell_type": "code",
   "execution_count": 18,
   "metadata": {
    "execution": {
     "iopub.execute_input": "2025-05-09T00:34:18.190216Z",
     "iopub.status.busy": "2025-05-09T00:34:18.189942Z",
     "iopub.status.idle": "2025-05-09T00:34:18.225207Z",
     "shell.execute_reply": "2025-05-09T00:34:18.224355Z",
     "shell.execute_reply.started": "2025-05-09T00:34:18.190197Z"
    },
    "trusted": true
   },
   "outputs": [
    {
     "name": "stderr",
     "output_type": "stream",
     "text": [
      "Using the `WANDB_DISABLED` environment variable is deprecated and will be removed in v5. Use the --report_to flag to control the integrations used for logging result (for instance --report_to none).\n"
     ]
    }
   ],
   "source": [
    "training_args = TrainingArguments(\n",
    "                    output_dir=\"test_output_dir\",\n",
    "                    #run_name=\"test-run\",\n",
    "                    eval_strategy='epoch',\n",
    "                    logging_strategy='epoch',\n",
    "                    save_strategy='epoch',\n",
    "                    learning_rate=5e-4,\n",
    "                    per_device_train_batch_size=8,\n",
    "                    per_device_eval_batch_size=4,\n",
    "                    num_train_epochs=5,\n",
    "                    weight_decay=1e-4,\n",
    "                    load_best_model_at_end=True,\n",
    "                    metric_for_best_model=\"eval_loss\",\n",
    "                    gradient_accumulation_steps=2\n",
    "                    )"
   ]
  },
  {
   "cell_type": "code",
   "execution_count": 19,
   "metadata": {
    "execution": {
     "iopub.execute_input": "2025-05-09T00:34:18.226517Z",
     "iopub.status.busy": "2025-05-09T00:34:18.226219Z",
     "iopub.status.idle": "2025-05-09T00:34:18.860775Z",
     "shell.execute_reply": "2025-05-09T00:34:18.860176Z",
     "shell.execute_reply.started": "2025-05-09T00:34:18.226491Z"
    },
    "trusted": true
   },
   "outputs": [
    {
     "name": "stderr",
     "output_type": "stream",
     "text": [
      "/tmp/ipykernel_31/99076126.py:1: FutureWarning: `tokenizer` is deprecated and will be removed in version 5.0.0 for `Trainer.__init__`. Use `processing_class` instead.\n",
      "  trainer = Trainer(\n"
     ]
    }
   ],
   "source": [
    "trainer = Trainer(\n",
    "            model=model,\n",
    "            args=training_args,\n",
    "            train_dataset=train_tokenized,\n",
    "            eval_dataset=test_tokenized,\n",
    "            tokenizer=tokenizer,\n",
    ")"
   ]
  },
  {
   "cell_type": "code",
   "execution_count": 20,
   "metadata": {
    "execution": {
     "iopub.execute_input": "2025-05-09T00:34:18.861776Z",
     "iopub.status.busy": "2025-05-09T00:34:18.861541Z",
     "iopub.status.idle": "2025-05-09T01:31:05.028196Z",
     "shell.execute_reply": "2025-05-09T01:31:05.027425Z",
     "shell.execute_reply.started": "2025-05-09T00:34:18.861759Z"
    },
    "trusted": true
   },
   "outputs": [
    {
     "data": {
      "text/html": [
       "\n",
       "    <div>\n",
       "      \n",
       "      <progress value='2500' max='2500' style='width:300px; height:20px; vertical-align: middle;'></progress>\n",
       "      [2500/2500 56:41, Epoch 5/5]\n",
       "    </div>\n",
       "    <table border=\"1\" class=\"dataframe\">\n",
       "  <thead>\n",
       " <tr style=\"text-align: left;\">\n",
       "      <th>Epoch</th>\n",
       "      <th>Training Loss</th>\n",
       "      <th>Validation Loss</th>\n",
       "    </tr>\n",
       "  </thead>\n",
       "  <tbody>\n",
       "    <tr>\n",
       "      <td>1</td>\n",
       "      <td>0.009300</td>\n",
       "      <td>0.001428</td>\n",
       "    </tr>\n",
       "    <tr>\n",
       "      <td>2</td>\n",
       "      <td>0.001300</td>\n",
       "      <td>0.001416</td>\n",
       "    </tr>\n",
       "    <tr>\n",
       "      <td>3</td>\n",
       "      <td>0.001300</td>\n",
       "      <td>0.001437</td>\n",
       "    </tr>\n",
       "    <tr>\n",
       "      <td>4</td>\n",
       "      <td>0.001200</td>\n",
       "      <td>0.001457</td>\n",
       "    </tr>\n",
       "    <tr>\n",
       "      <td>5</td>\n",
       "      <td>0.001200</td>\n",
       "      <td>0.001464</td>\n",
       "    </tr>\n",
       "  </tbody>\n",
       "</table><p>"
      ],
      "text/plain": [
       "<IPython.core.display.HTML object>"
      ]
     },
     "metadata": {},
     "output_type": "display_data"
    },
    {
     "data": {
      "text/plain": [
       "TrainOutput(global_step=2500, training_loss=0.0028648670196533203, metrics={'train_runtime': 3404.3986, 'train_samples_per_second': 11.75, 'train_steps_per_second': 0.734, 'total_flos': 1.404852830208e+16, 'train_loss': 0.0028648670196533203, 'epoch': 5.0})"
      ]
     },
     "execution_count": 20,
     "metadata": {},
     "output_type": "execute_result"
    }
   ],
   "source": [
    "trainer.train()"
   ]
  },
  {
   "cell_type": "code",
   "execution_count": 21,
   "metadata": {
    "execution": {
     "iopub.execute_input": "2025-05-09T01:31:05.029268Z",
     "iopub.status.busy": "2025-05-09T01:31:05.028993Z",
     "iopub.status.idle": "2025-05-09T01:31:05.033733Z",
     "shell.execute_reply": "2025-05-09T01:31:05.032839Z",
     "shell.execute_reply.started": "2025-05-09T01:31:05.029248Z"
    },
    "trusted": true
   },
   "outputs": [],
   "source": [
    "def is_fuzzy_match(pred, true_keywords):\n",
    "    for true_kw in true_keywords:\n",
    "        if pred in true_kw or true_kw in pred:\n",
    "            return True\n",
    "    return False"
   ]
  },
  {
   "cell_type": "code",
   "execution_count": 22,
   "metadata": {
    "execution": {
     "iopub.execute_input": "2025-05-09T01:31:05.034936Z",
     "iopub.status.busy": "2025-05-09T01:31:05.034652Z",
     "iopub.status.idle": "2025-05-09T01:31:57.716548Z",
     "shell.execute_reply": "2025-05-09T01:31:57.715740Z",
     "shell.execute_reply.started": "2025-05-09T01:31:05.034917Z"
    },
    "trusted": true
   },
   "outputs": [
    {
     "data": {
      "text/html": [],
      "text/plain": [
       "<IPython.core.display.HTML object>"
      ]
     },
     "metadata": {},
     "output_type": "display_data"
    },
    {
     "name": "stdout",
     "output_type": "stream",
     "text": [
      "Precision (Top-5, Fuzzy): 0.0762\n",
      "Recall (Top-5, Fuzzy):    0.0710\n",
      "F1 Score (Top-5, Fuzzy):  0.0735\n",
      "MAP@5 (Fuzzy):            0.0762\n"
     ]
    }
   ],
   "source": [
    "# Get model predictions on test set\n",
    "predictions = trainer.predict(test_tokenized)\n",
    "logits = predictions.predictions\n",
    "true_labels = predictions.label_ids\n",
    "\n",
    "# Apply sigmoid to get probabilities\n",
    "probs = 1 / (1 + np.exp(-logits))\n",
    "\n",
    "# Get top-5 predicted label indices\n",
    "top5_preds = np.argsort(probs, axis=1)[:, -5:][:, ::-1]\n",
    "\n",
    "# Convert index labels to strings\n",
    "inv_mlb = {i: kw for i, kw in enumerate(multi_label_binarizer.classes_)}\n",
    "predicted_keywords = [[inv_mlb[idx] for idx in row] for row in top5_preds]\n",
    "true_keywords = [[inv_mlb[i] for i in np.where(row == 1)[0]] for row in true_labels]\n",
    "\n",
    "# Initialize counters\n",
    "tp, fp, fn = 0, 0, 0\n",
    "ap5_scores = []\n",
    "\n",
    "for preds, truths in zip(predicted_keywords, true_keywords):\n",
    "    matched_preds = 0\n",
    "    matched_truths = set()\n",
    "\n",
    "    for pred in preds:\n",
    "        if is_fuzzy_match(pred, truths):\n",
    "            matched_preds += 1\n",
    "\n",
    "    tp += matched_preds\n",
    "    fp += len(preds) - matched_preds\n",
    "    fn += len(truths) - matched_preds\n",
    "    ap5_scores.append(matched_preds / 5)\n",
    "\n",
    "# Final metrics\n",
    "precision = tp / (tp + fp + 1e-8)\n",
    "recall = tp / (tp + fn + 1e-8)\n",
    "f1 = 2 * precision * recall / (precision + recall + 1e-8)\n",
    "map5 = np.mean(ap5_scores)\n",
    "\n",
    "# Output\n",
    "print(f\"Precision (Top-5, Fuzzy): {precision:.4f}\")\n",
    "print(f\"Recall (Top-5, Fuzzy):    {recall:.4f}\")\n",
    "print(f\"F1 Score (Top-5, Fuzzy):  {f1:.4f}\")\n",
    "print(f\"MAP@5 (Fuzzy):            {map5:.4f}\")"
   ]
  }
 ],
 "metadata": {
  "kaggle": {
   "accelerator": "gpu",
   "dataSources": [
    {
     "datasetId": 7298274,
     "sourceId": 11632226,
     "sourceType": "datasetVersion"
    }
   ],
   "dockerImageVersionId": 31011,
   "isGpuEnabled": true,
   "isInternetEnabled": true,
   "language": "python",
   "sourceType": "notebook"
  },
  "kernelspec": {
   "display_name": "Python 3",
   "language": "python",
   "name": "python3"
  },
  "language_info": {
   "codemirror_mode": {
    "name": "ipython",
    "version": 3
   },
   "file_extension": ".py",
   "mimetype": "text/x-python",
   "name": "python",
   "nbconvert_exporter": "python",
   "pygments_lexer": "ipython3",
   "version": "3.11.11"
  }
 },
 "nbformat": 4,
 "nbformat_minor": 4
}
