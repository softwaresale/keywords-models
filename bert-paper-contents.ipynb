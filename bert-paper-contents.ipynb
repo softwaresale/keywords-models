{
 "cells": [
  {
   "cell_type": "code",
   "execution_count": 2,
   "metadata": {
    "execution": {
     "iopub.execute_input": "2025-05-08T23:25:01.715153Z",
     "iopub.status.busy": "2025-05-08T23:25:01.714605Z",
     "iopub.status.idle": "2025-05-08T23:25:22.243066Z",
     "shell.execute_reply": "2025-05-08T23:25:22.241993Z",
     "shell.execute_reply.started": "2025-05-08T23:25:01.715124Z"
    },
    "trusted": true
   },
   "outputs": [
    {
     "name": "stderr",
     "output_type": "stream",
     "text": [
      "2025-05-08 23:25:15.432505: E external/local_xla/xla/stream_executor/cuda/cuda_fft.cc:477] Unable to register cuFFT factory: Attempting to register factory for plugin cuFFT when one has already been registered\n",
      "WARNING: All log messages before absl::InitializeLog() is called are written to STDERR\n",
      "E0000 00:00:1746746715.651352      97 cuda_dnn.cc:8310] Unable to register cuDNN factory: Attempting to register factory for plugin cuDNN when one has already been registered\n",
      "E0000 00:00:1746746715.712435      97 cuda_blas.cc:1418] Unable to register cuBLAS factory: Attempting to register factory for plugin cuBLAS when one has already been registered\n",
      "/usr/local/lib/python3.11/dist-packages/fuzzywuzzy/fuzz.py:11: UserWarning: Using slow pure-python SequenceMatcher. Install python-Levenshtein to remove this warning\n",
      "  warnings.warn('Using slow pure-python SequenceMatcher. Install python-Levenshtein to remove this warning')\n"
     ]
    }
   ],
   "source": [
    "import pandas as pd\n",
    "import numpy as np\n",
    "import json\n",
    "from datasets import Dataset, Value, Sequence\n",
    "from transformers import AutoTokenizer, AutoModelForSequenceClassification, TrainingArguments, Trainer\n",
    "from sklearn.preprocessing import MultiLabelBinarizer\n",
    "from sklearn.metrics import average_precision_score, precision_score, recall_score, f1_score\n",
    "from fuzzywuzzy import fuzz\n",
    "from tqdm import tqdm\n",
    "import torch"
   ]
  },
  {
   "cell_type": "code",
   "execution_count": 3,
   "metadata": {
    "execution": {
     "iopub.execute_input": "2025-05-08T23:25:22.245486Z",
     "iopub.status.busy": "2025-05-08T23:25:22.244826Z",
     "iopub.status.idle": "2025-05-08T23:25:22.249648Z",
     "shell.execute_reply": "2025-05-08T23:25:22.248737Z",
     "shell.execute_reply.started": "2025-05-08T23:25:22.245461Z"
    },
    "trusted": true
   },
   "outputs": [],
   "source": [
    "import os\n",
    "os.environ[\"WANDB_DISABLED\"] = \"true\""
   ]
  },
  {
   "cell_type": "code",
   "execution_count": 4,
   "metadata": {
    "execution": {
     "iopub.execute_input": "2025-05-08T23:25:22.250796Z",
     "iopub.status.busy": "2025-05-08T23:25:22.250526Z",
     "iopub.status.idle": "2025-05-08T23:25:22.269402Z",
     "shell.execute_reply": "2025-05-08T23:25:22.268194Z",
     "shell.execute_reply.started": "2025-05-08T23:25:22.250774Z"
    },
    "trusted": true
   },
   "outputs": [],
   "source": [
    "device = \"cuda\" if torch.cuda.is_available() else \"cpu\""
   ]
  },
  {
   "cell_type": "code",
   "execution_count": 5,
   "metadata": {
    "execution": {
     "iopub.execute_input": "2025-05-08T23:25:22.271656Z",
     "iopub.status.busy": "2025-05-08T23:25:22.271385Z",
     "iopub.status.idle": "2025-05-08T23:25:22.287623Z",
     "shell.execute_reply": "2025-05-08T23:25:22.286745Z",
     "shell.execute_reply.started": "2025-05-08T23:25:22.271636Z"
    },
    "trusted": true
   },
   "outputs": [
    {
     "data": {
      "text/plain": [
       "'cuda'"
      ]
     },
     "execution_count": 5,
     "metadata": {},
     "output_type": "execute_result"
    }
   ],
   "source": [
    "device"
   ]
  },
  {
   "cell_type": "code",
   "execution_count": null,
   "metadata": {
    "execution": {
     "iopub.execute_input": "2025-05-08T23:25:22.289708Z",
     "iopub.status.busy": "2025-05-08T23:25:22.288894Z",
     "iopub.status.idle": "2025-05-08T23:25:34.493169Z",
     "shell.execute_reply": "2025-05-08T23:25:34.492235Z",
     "shell.execute_reply.started": "2025-05-08T23:25:22.289656Z"
    },
    "trusted": true
   },
   "outputs": [],
   "source": [
    "train_data = []\n",
    "with open(\"data/training-data.ndjson\", \"r\", encoding=\"utf-8\") as f:\n",
    "    train_data = [json.loads(line) for line in f if line.strip()]  # skip blank lines\n",
    "train_df = pd.DataFrame(train_data)\n",
    "train_df = train_df[['content', 'keywords']]"
   ]
  },
  {
   "cell_type": "code",
   "execution_count": null,
   "metadata": {
    "execution": {
     "iopub.execute_input": "2025-05-08T23:25:34.494536Z",
     "iopub.status.busy": "2025-05-08T23:25:34.494192Z",
     "iopub.status.idle": "2025-05-08T23:25:38.556264Z",
     "shell.execute_reply": "2025-05-08T23:25:38.555233Z",
     "shell.execute_reply.started": "2025-05-08T23:25:34.494508Z"
    },
    "trusted": true
   },
   "outputs": [],
   "source": [
    "test_data = []\n",
    "with open(\"data/test-data.ndjson\", \"r\", encoding=\"utf-8\") as f:\n",
    "    test_data = [json.loads(line) for line in f if line.strip()]  # skip blank lines\n",
    "test_df = pd.DataFrame(test_data)\n",
    "test_df = test_df[['content', 'keywords']]"
   ]
  },
  {
   "cell_type": "code",
   "execution_count": 8,
   "metadata": {
    "execution": {
     "iopub.execute_input": "2025-05-08T23:25:38.557853Z",
     "iopub.status.busy": "2025-05-08T23:25:38.557435Z",
     "iopub.status.idle": "2025-05-08T23:25:40.636107Z",
     "shell.execute_reply": "2025-05-08T23:25:40.635230Z",
     "shell.execute_reply.started": "2025-05-08T23:25:38.557819Z"
    },
    "trusted": true
   },
   "outputs": [],
   "source": [
    "train_df['content'] = train_df['content'].str.replace(\"\\n\\n\", \" \", regex=False)\n",
    "train_df['content'] = train_df['content'].str.replace(\"\\n\", \" \", regex=False)\n",
    "train_df['content'] = train_df['content'].str.strip()"
   ]
  },
  {
   "cell_type": "code",
   "execution_count": 9,
   "metadata": {
    "execution": {
     "iopub.execute_input": "2025-05-08T23:25:40.637422Z",
     "iopub.status.busy": "2025-05-08T23:25:40.637040Z",
     "iopub.status.idle": "2025-05-08T23:25:41.180624Z",
     "shell.execute_reply": "2025-05-08T23:25:41.179646Z",
     "shell.execute_reply.started": "2025-05-08T23:25:40.637393Z"
    },
    "trusted": true
   },
   "outputs": [],
   "source": [
    "test_df['content'] = test_df['content'].str.replace(\"\\n\\n\", \" \", regex=False)\n",
    "test_df['content'] = test_df['content'].str.replace(\"\\n\", \" \", regex=False)\n",
    "test_df['content'] = test_df['content'].str.strip()"
   ]
  },
  {
   "cell_type": "code",
   "execution_count": 10,
   "metadata": {
    "execution": {
     "iopub.execute_input": "2025-05-08T23:25:41.181955Z",
     "iopub.status.busy": "2025-05-08T23:25:41.181653Z",
     "iopub.status.idle": "2025-05-08T23:25:41.188552Z",
     "shell.execute_reply": "2025-05-08T23:25:41.187866Z",
     "shell.execute_reply.started": "2025-05-08T23:25:41.181935Z"
    },
    "trusted": true
   },
   "outputs": [
    {
     "data": {
      "text/plain": [
       "['Video saliency prediction', 'feature alignment', 'deformable']"
      ]
     },
     "execution_count": 10,
     "metadata": {},
     "output_type": "execute_result"
    }
   ],
   "source": [
    "train_df.iloc[0, :]['keywords']"
   ]
  },
  {
   "cell_type": "code",
   "execution_count": 11,
   "metadata": {
    "execution": {
     "iopub.execute_input": "2025-05-08T23:25:41.191664Z",
     "iopub.status.busy": "2025-05-08T23:25:41.191404Z",
     "iopub.status.idle": "2025-05-08T23:25:41.252969Z",
     "shell.execute_reply": "2025-05-08T23:25:41.252012Z",
     "shell.execute_reply.started": "2025-05-08T23:25:41.191643Z"
    },
    "trusted": true
   },
   "outputs": [
    {
     "data": {
      "text/html": [
       "<style>#sk-container-id-1 {color: black;background-color: white;}#sk-container-id-1 pre{padding: 0;}#sk-container-id-1 div.sk-toggleable {background-color: white;}#sk-container-id-1 label.sk-toggleable__label {cursor: pointer;display: block;width: 100%;margin-bottom: 0;padding: 0.3em;box-sizing: border-box;text-align: center;}#sk-container-id-1 label.sk-toggleable__label-arrow:before {content: \"▸\";float: left;margin-right: 0.25em;color: #696969;}#sk-container-id-1 label.sk-toggleable__label-arrow:hover:before {color: black;}#sk-container-id-1 div.sk-estimator:hover label.sk-toggleable__label-arrow:before {color: black;}#sk-container-id-1 div.sk-toggleable__content {max-height: 0;max-width: 0;overflow: hidden;text-align: left;background-color: #f0f8ff;}#sk-container-id-1 div.sk-toggleable__content pre {margin: 0.2em;color: black;border-radius: 0.25em;background-color: #f0f8ff;}#sk-container-id-1 input.sk-toggleable__control:checked~div.sk-toggleable__content {max-height: 200px;max-width: 100%;overflow: auto;}#sk-container-id-1 input.sk-toggleable__control:checked~label.sk-toggleable__label-arrow:before {content: \"▾\";}#sk-container-id-1 div.sk-estimator input.sk-toggleable__control:checked~label.sk-toggleable__label {background-color: #d4ebff;}#sk-container-id-1 div.sk-label input.sk-toggleable__control:checked~label.sk-toggleable__label {background-color: #d4ebff;}#sk-container-id-1 input.sk-hidden--visually {border: 0;clip: rect(1px 1px 1px 1px);clip: rect(1px, 1px, 1px, 1px);height: 1px;margin: -1px;overflow: hidden;padding: 0;position: absolute;width: 1px;}#sk-container-id-1 div.sk-estimator {font-family: monospace;background-color: #f0f8ff;border: 1px dotted black;border-radius: 0.25em;box-sizing: border-box;margin-bottom: 0.5em;}#sk-container-id-1 div.sk-estimator:hover {background-color: #d4ebff;}#sk-container-id-1 div.sk-parallel-item::after {content: \"\";width: 100%;border-bottom: 1px solid gray;flex-grow: 1;}#sk-container-id-1 div.sk-label:hover label.sk-toggleable__label {background-color: #d4ebff;}#sk-container-id-1 div.sk-serial::before {content: \"\";position: absolute;border-left: 1px solid gray;box-sizing: border-box;top: 0;bottom: 0;left: 50%;z-index: 0;}#sk-container-id-1 div.sk-serial {display: flex;flex-direction: column;align-items: center;background-color: white;padding-right: 0.2em;padding-left: 0.2em;position: relative;}#sk-container-id-1 div.sk-item {position: relative;z-index: 1;}#sk-container-id-1 div.sk-parallel {display: flex;align-items: stretch;justify-content: center;background-color: white;position: relative;}#sk-container-id-1 div.sk-item::before, #sk-container-id-1 div.sk-parallel-item::before {content: \"\";position: absolute;border-left: 1px solid gray;box-sizing: border-box;top: 0;bottom: 0;left: 50%;z-index: -1;}#sk-container-id-1 div.sk-parallel-item {display: flex;flex-direction: column;z-index: 1;position: relative;background-color: white;}#sk-container-id-1 div.sk-parallel-item:first-child::after {align-self: flex-end;width: 50%;}#sk-container-id-1 div.sk-parallel-item:last-child::after {align-self: flex-start;width: 50%;}#sk-container-id-1 div.sk-parallel-item:only-child::after {width: 0;}#sk-container-id-1 div.sk-dashed-wrapped {border: 1px dashed gray;margin: 0 0.4em 0.5em 0.4em;box-sizing: border-box;padding-bottom: 0.4em;background-color: white;}#sk-container-id-1 div.sk-label label {font-family: monospace;font-weight: bold;display: inline-block;line-height: 1.2em;}#sk-container-id-1 div.sk-label-container {text-align: center;}#sk-container-id-1 div.sk-container {/* jupyter's `normalize.less` sets `[hidden] { display: none; }` but bootstrap.min.css set `[hidden] { display: none !important; }` so we also need the `!important` here to be able to override the default hidden behavior on the sphinx rendered scikit-learn.org. See: https://github.com/scikit-learn/scikit-learn/issues/21755 */display: inline-block !important;position: relative;}#sk-container-id-1 div.sk-text-repr-fallback {display: none;}</style><div id=\"sk-container-id-1\" class=\"sk-top-container\"><div class=\"sk-text-repr-fallback\"><pre>MultiLabelBinarizer()</pre><b>In a Jupyter environment, please rerun this cell to show the HTML representation or trust the notebook. <br />On GitHub, the HTML representation is unable to render, please try loading this page with nbviewer.org.</b></div><div class=\"sk-container\" hidden><div class=\"sk-item\"><div class=\"sk-estimator sk-toggleable\"><input class=\"sk-toggleable__control sk-hidden--visually\" id=\"sk-estimator-id-1\" type=\"checkbox\" checked><label for=\"sk-estimator-id-1\" class=\"sk-toggleable__label sk-toggleable__label-arrow\">MultiLabelBinarizer</label><div class=\"sk-toggleable__content\"><pre>MultiLabelBinarizer()</pre></div></div></div></div></div>"
      ],
      "text/plain": [
       "MultiLabelBinarizer()"
      ]
     },
     "execution_count": 11,
     "metadata": {},
     "output_type": "execute_result"
    }
   ],
   "source": [
    "multi_label_binarizer = MultiLabelBinarizer()\n",
    "multi_label_binarizer.fit(train_df['keywords'].tolist() + test_df['keywords'].tolist())"
   ]
  },
  {
   "cell_type": "code",
   "execution_count": 12,
   "metadata": {
    "execution": {
     "iopub.execute_input": "2025-05-08T23:25:41.254592Z",
     "iopub.status.busy": "2025-05-08T23:25:41.253920Z",
     "iopub.status.idle": "2025-05-08T23:25:48.747847Z",
     "shell.execute_reply": "2025-05-08T23:25:48.747018Z",
     "shell.execute_reply.started": "2025-05-08T23:25:41.254559Z"
    },
    "trusted": true
   },
   "outputs": [],
   "source": [
    "train_df['labels'] = multi_label_binarizer.transform(train_df['keywords']).tolist()\n",
    "test_df['labels'] = multi_label_binarizer.transform(test_df['keywords']).tolist()"
   ]
  },
  {
   "cell_type": "code",
   "execution_count": 13,
   "metadata": {
    "execution": {
     "iopub.execute_input": "2025-05-08T23:25:48.748895Z",
     "iopub.status.busy": "2025-05-08T23:25:48.748638Z",
     "iopub.status.idle": "2025-05-08T23:26:46.230521Z",
     "shell.execute_reply": "2025-05-08T23:26:46.229746Z",
     "shell.execute_reply.started": "2025-05-08T23:25:48.748875Z"
    },
    "trusted": true
   },
   "outputs": [],
   "source": [
    "train_dataset = Dataset.from_pandas(train_df[['content', 'labels']])\n",
    "test_dataset = Dataset.from_pandas(test_df[['content', 'labels']])"
   ]
  },
  {
   "cell_type": "code",
   "execution_count": 14,
   "metadata": {
    "execution": {
     "iopub.execute_input": "2025-05-08T23:26:46.231991Z",
     "iopub.status.busy": "2025-05-08T23:26:46.231635Z",
     "iopub.status.idle": "2025-05-08T23:26:47.233005Z",
     "shell.execute_reply": "2025-05-08T23:26:47.232300Z",
     "shell.execute_reply.started": "2025-05-08T23:26:46.231964Z"
    },
    "trusted": true
   },
   "outputs": [
    {
     "data": {
      "application/vnd.jupyter.widget-view+json": {
       "model_id": "2edf44082b2642c6a2d2afc3b64eb2f9",
       "version_major": 2,
       "version_minor": 0
      },
      "text/plain": [
       "tokenizer_config.json:   0%|          | 0.00/49.0 [00:00<?, ?B/s]"
      ]
     },
     "metadata": {},
     "output_type": "display_data"
    },
    {
     "data": {
      "application/vnd.jupyter.widget-view+json": {
       "model_id": "84e947224fe14b608ed9dea47cd2b408",
       "version_major": 2,
       "version_minor": 0
      },
      "text/plain": [
       "config.json:   0%|          | 0.00/570 [00:00<?, ?B/s]"
      ]
     },
     "metadata": {},
     "output_type": "display_data"
    },
    {
     "data": {
      "application/vnd.jupyter.widget-view+json": {
       "model_id": "c281d8fff22242429e4c0b81f319fe27",
       "version_major": 2,
       "version_minor": 0
      },
      "text/plain": [
       "vocab.txt:   0%|          | 0.00/213k [00:00<?, ?B/s]"
      ]
     },
     "metadata": {},
     "output_type": "display_data"
    },
    {
     "data": {
      "application/vnd.jupyter.widget-view+json": {
       "model_id": "1bd0c923bbb34db58e9951a2274d87b3",
       "version_major": 2,
       "version_minor": 0
      },
      "text/plain": [
       "tokenizer.json:   0%|          | 0.00/436k [00:00<?, ?B/s]"
      ]
     },
     "metadata": {},
     "output_type": "display_data"
    }
   ],
   "source": [
    "tokenizer = AutoTokenizer.from_pretrained('bert-base-cased')"
   ]
  },
  {
   "cell_type": "code",
   "execution_count": 15,
   "metadata": {
    "execution": {
     "iopub.execute_input": "2025-05-08T23:26:47.234197Z",
     "iopub.status.busy": "2025-05-08T23:26:47.233926Z",
     "iopub.status.idle": "2025-05-08T23:26:47.238941Z",
     "shell.execute_reply": "2025-05-08T23:26:47.237828Z",
     "shell.execute_reply.started": "2025-05-08T23:26:47.234176Z"
    },
    "trusted": true
   },
   "outputs": [],
   "source": [
    "def tokenize_inputs(entry):\n",
    "    return tokenizer(entry['content'], padding=\"max_length\", truncation=True, max_length=512)"
   ]
  },
  {
   "cell_type": "code",
   "execution_count": 16,
   "metadata": {
    "execution": {
     "iopub.execute_input": "2025-05-08T23:26:47.240144Z",
     "iopub.status.busy": "2025-05-08T23:26:47.239876Z",
     "iopub.status.idle": "2025-05-08T23:29:32.355293Z",
     "shell.execute_reply": "2025-05-08T23:29:32.354520Z",
     "shell.execute_reply.started": "2025-05-08T23:26:47.240113Z"
    },
    "trusted": true
   },
   "outputs": [
    {
     "data": {
      "application/vnd.jupyter.widget-view+json": {
       "model_id": "c3673277669b4aec914bdf2aee6ff974",
       "version_major": 2,
       "version_minor": 0
      },
      "text/plain": [
       "Map:   0%|          | 0/8000 [00:00<?, ? examples/s]"
      ]
     },
     "metadata": {},
     "output_type": "display_data"
    },
    {
     "data": {
      "application/vnd.jupyter.widget-view+json": {
       "model_id": "202190395b584983ba97f1e8d192d6ba",
       "version_major": 2,
       "version_minor": 0
      },
      "text/plain": [
       "Map:   0%|          | 0/2000 [00:00<?, ? examples/s]"
      ]
     },
     "metadata": {},
     "output_type": "display_data"
    },
    {
     "data": {
      "application/vnd.jupyter.widget-view+json": {
       "model_id": "8dbd917f4f4643aab8974bfd474f36c3",
       "version_major": 2,
       "version_minor": 0
      },
      "text/plain": [
       "Casting the dataset:   0%|          | 0/8000 [00:00<?, ? examples/s]"
      ]
     },
     "metadata": {},
     "output_type": "display_data"
    },
    {
     "data": {
      "application/vnd.jupyter.widget-view+json": {
       "model_id": "2c3ab4b062634806b471f4546f332fca",
       "version_major": 2,
       "version_minor": 0
      },
      "text/plain": [
       "Casting the dataset:   0%|          | 0/2000 [00:00<?, ? examples/s]"
      ]
     },
     "metadata": {},
     "output_type": "display_data"
    }
   ],
   "source": [
    "train_tokenized = train_dataset.map(tokenize_inputs, batched=True)\n",
    "test_tokenized = test_dataset.map(tokenize_inputs, batched=True)\n",
    "\n",
    "train_tokenized.set_format(\"torch\", columns=[\"input_ids\", \"attention_mask\", \"labels\"])\n",
    "test_tokenized.set_format(\"torch\", columns=[\"input_ids\", \"attention_mask\", \"labels\"])\n",
    "\n",
    "train_tokenized = train_tokenized.cast_column(\"labels\", Sequence(Value(\"float32\")))\n",
    "test_tokenized = test_tokenized.cast_column(\"labels\", Sequence(Value(\"float32\")))"
   ]
  },
  {
   "cell_type": "code",
   "execution_count": 17,
   "metadata": {
    "execution": {
     "iopub.execute_input": "2025-05-08T23:29:32.356953Z",
     "iopub.status.busy": "2025-05-08T23:29:32.356598Z",
     "iopub.status.idle": "2025-05-08T23:29:35.451751Z",
     "shell.execute_reply": "2025-05-08T23:29:35.450929Z",
     "shell.execute_reply.started": "2025-05-08T23:29:32.356919Z"
    },
    "trusted": true
   },
   "outputs": [
    {
     "name": "stderr",
     "output_type": "stream",
     "text": [
      "Xet Storage is enabled for this repo, but the 'hf_xet' package is not installed. Falling back to regular HTTP download. For better performance, install the package with: `pip install huggingface_hub[hf_xet]` or `pip install hf_xet`\n"
     ]
    },
    {
     "data": {
      "application/vnd.jupyter.widget-view+json": {
       "model_id": "411cf4259bab4e63a00cfc61dce502a8",
       "version_major": 2,
       "version_minor": 0
      },
      "text/plain": [
       "model.safetensors:   0%|          | 0.00/436M [00:00<?, ?B/s]"
      ]
     },
     "metadata": {},
     "output_type": "display_data"
    },
    {
     "name": "stderr",
     "output_type": "stream",
     "text": [
      "Some weights of BertForSequenceClassification were not initialized from the model checkpoint at bert-base-cased and are newly initialized: ['classifier.bias', 'classifier.weight']\n",
      "You should probably TRAIN this model on a down-stream task to be able to use it for predictions and inference.\n"
     ]
    }
   ],
   "source": [
    "model = AutoModelForSequenceClassification.from_pretrained('bert-base-cased',\n",
    "                                           num_labels=len(multi_label_binarizer.classes_),\n",
    "                                           problem_type=\"multi_label_classification\")"
   ]
  },
  {
   "cell_type": "code",
   "execution_count": 18,
   "metadata": {
    "execution": {
     "iopub.execute_input": "2025-05-08T23:29:35.452968Z",
     "iopub.status.busy": "2025-05-08T23:29:35.452613Z",
     "iopub.status.idle": "2025-05-08T23:29:35.491780Z",
     "shell.execute_reply": "2025-05-08T23:29:35.491110Z",
     "shell.execute_reply.started": "2025-05-08T23:29:35.452940Z"
    },
    "trusted": true
   },
   "outputs": [
    {
     "name": "stderr",
     "output_type": "stream",
     "text": [
      "Using the `WANDB_DISABLED` environment variable is deprecated and will be removed in v5. Use the --report_to flag to control the integrations used for logging result (for instance --report_to none).\n"
     ]
    }
   ],
   "source": [
    "training_args = TrainingArguments(\n",
    "                    output_dir=\"test_output_dir\",\n",
    "                    #run_name=\"test-run\",\n",
    "                    eval_strategy='epoch',\n",
    "                    logging_strategy='epoch',\n",
    "                    save_strategy='epoch',\n",
    "                    learning_rate=5e-4,\n",
    "                    per_device_train_batch_size=8,\n",
    "                    per_device_eval_batch_size=4,\n",
    "                    num_train_epochs=5,\n",
    "                    weight_decay=1e-4,\n",
    "                    load_best_model_at_end=True,\n",
    "                    metric_for_best_model=\"eval_loss\",\n",
    "                    gradient_accumulation_steps=2\n",
    "                    )"
   ]
  },
  {
   "cell_type": "code",
   "execution_count": 19,
   "metadata": {
    "execution": {
     "iopub.execute_input": "2025-05-08T23:29:35.493705Z",
     "iopub.status.busy": "2025-05-08T23:29:35.492756Z",
     "iopub.status.idle": "2025-05-08T23:29:36.205749Z",
     "shell.execute_reply": "2025-05-08T23:29:36.205011Z",
     "shell.execute_reply.started": "2025-05-08T23:29:35.493651Z"
    },
    "trusted": true
   },
   "outputs": [
    {
     "name": "stderr",
     "output_type": "stream",
     "text": [
      "/tmp/ipykernel_97/99076126.py:1: FutureWarning: `tokenizer` is deprecated and will be removed in version 5.0.0 for `Trainer.__init__`. Use `processing_class` instead.\n",
      "  trainer = Trainer(\n"
     ]
    }
   ],
   "source": [
    "trainer = Trainer(\n",
    "            model=model,\n",
    "            args=training_args,\n",
    "            train_dataset=train_tokenized,\n",
    "            eval_dataset=test_tokenized,\n",
    "            tokenizer=tokenizer,\n",
    ")"
   ]
  },
  {
   "cell_type": "code",
   "execution_count": 20,
   "metadata": {
    "execution": {
     "iopub.execute_input": "2025-05-08T23:29:36.206983Z",
     "iopub.status.busy": "2025-05-08T23:29:36.206633Z",
     "iopub.status.idle": "2025-05-09T00:26:14.805789Z",
     "shell.execute_reply": "2025-05-09T00:26:14.804581Z",
     "shell.execute_reply.started": "2025-05-08T23:29:36.206959Z"
    },
    "trusted": true
   },
   "outputs": [
    {
     "data": {
      "text/html": [
       "\n",
       "    <div>\n",
       "      \n",
       "      <progress value='2500' max='2500' style='width:300px; height:20px; vertical-align: middle;'></progress>\n",
       "      [2500/2500 56:33, Epoch 5/5]\n",
       "    </div>\n",
       "    <table border=\"1\" class=\"dataframe\">\n",
       "  <thead>\n",
       " <tr style=\"text-align: left;\">\n",
       "      <th>Epoch</th>\n",
       "      <th>Training Loss</th>\n",
       "      <th>Validation Loss</th>\n",
       "    </tr>\n",
       "  </thead>\n",
       "  <tbody>\n",
       "    <tr>\n",
       "      <td>1</td>\n",
       "      <td>0.011200</td>\n",
       "      <td>0.001441</td>\n",
       "    </tr>\n",
       "    <tr>\n",
       "      <td>2</td>\n",
       "      <td>0.001300</td>\n",
       "      <td>0.001409</td>\n",
       "    </tr>\n",
       "    <tr>\n",
       "      <td>3</td>\n",
       "      <td>0.001200</td>\n",
       "      <td>0.001424</td>\n",
       "    </tr>\n",
       "    <tr>\n",
       "      <td>4</td>\n",
       "      <td>0.001200</td>\n",
       "      <td>0.001443</td>\n",
       "    </tr>\n",
       "    <tr>\n",
       "      <td>5</td>\n",
       "      <td>0.001200</td>\n",
       "      <td>0.001450</td>\n",
       "    </tr>\n",
       "  </tbody>\n",
       "</table><p>"
      ],
      "text/plain": [
       "<IPython.core.display.HTML object>"
      ]
     },
     "metadata": {},
     "output_type": "display_data"
    },
    {
     "data": {
      "text/plain": [
       "TrainOutput(global_step=2500, training_loss=0.003228331685066223, metrics={'train_runtime': 3396.7033, 'train_samples_per_second': 11.776, 'train_steps_per_second': 0.736, 'total_flos': 1.404852830208e+16, 'train_loss': 0.003228331685066223, 'epoch': 5.0})"
      ]
     },
     "execution_count": 20,
     "metadata": {},
     "output_type": "execute_result"
    }
   ],
   "source": [
    "trainer.train()"
   ]
  },
  {
   "cell_type": "code",
   "execution_count": 21,
   "metadata": {
    "execution": {
     "iopub.execute_input": "2025-05-09T00:26:14.807318Z",
     "iopub.status.busy": "2025-05-09T00:26:14.806986Z",
     "iopub.status.idle": "2025-05-09T00:26:14.812793Z",
     "shell.execute_reply": "2025-05-09T00:26:14.811744Z",
     "shell.execute_reply.started": "2025-05-09T00:26:14.807296Z"
    },
    "trusted": true
   },
   "outputs": [],
   "source": [
    "def is_fuzzy_match(pred, true_keywords):\n",
    "    for true_kw in true_keywords:\n",
    "        if pred in true_kw or true_kw in pred:\n",
    "            return True\n",
    "    return False"
   ]
  },
  {
   "cell_type": "code",
   "execution_count": null,
   "metadata": {
    "execution": {
     "iopub.execute_input": "2025-05-09T00:29:59.205085Z",
     "iopub.status.busy": "2025-05-09T00:29:59.204571Z",
     "iopub.status.idle": "2025-05-09T00:30:49.279840Z",
     "shell.execute_reply": "2025-05-09T00:30:49.278996Z",
     "shell.execute_reply.started": "2025-05-09T00:29:59.205046Z"
    },
    "trusted": true
   },
   "outputs": [
    {
     "data": {
      "text/html": [],
      "text/plain": [
       "<IPython.core.display.HTML object>"
      ]
     },
     "metadata": {},
     "output_type": "display_data"
    },
    {
     "name": "stdout",
     "output_type": "stream",
     "text": [
      "Precision (Top-5, Fuzzy): 0.0762\n",
      "Recall (Top-5, Fuzzy):    0.0710\n",
      "F1 Score (Top-5, Fuzzy):  0.0735\n",
      "MAP@5 (Fuzzy):            0.0762\n"
     ]
    }
   ],
   "source": [
    "# Get model predictions on test set\n",
    "predictions = trainer.predict(test_tokenized)\n",
    "logits = predictions.predictions\n",
    "true_labels = predictions.label_ids\n",
    "\n",
    "# Apply sigmoid to get probabilities\n",
    "probs = 1 / (1 + np.exp(-logits))\n",
    "\n",
    "# Get top-5 predicted label indices\n",
    "top5_preds = np.argsort(probs, axis=1)[:, -5:][:, ::-1]\n",
    "\n",
    "\n",
    "inv_mlb = {i: kw for i, kw in enumerate(multi_label_binarizer.classes_)}\n",
    "predicted_keywords = [[inv_mlb[idx] for idx in row] for row in top5_preds]\n",
    "true_keywords = [[inv_mlb[i] for i in np.where(row == 1)[0]] for row in true_labels]\n",
    "\n",
    "\n",
    "tp, fp, fn = 0, 0, 0\n",
    "ap5_scores = []\n",
    "\n",
    "for preds, truths in zip(predicted_keywords, true_keywords):\n",
    "    matched_preds = 0\n",
    "    matched_truths = set()\n",
    "\n",
    "    for pred in preds:\n",
    "        if is_fuzzy_match(pred, truths):\n",
    "            matched_preds += 1\n",
    "\n",
    "    tp += matched_preds\n",
    "    fp += len(preds) - matched_preds\n",
    "    fn += len(truths) - matched_preds\n",
    "    ap5_scores.append(matched_preds / 5)\n",
    "\n",
    "\n",
    "precision = tp / (tp + fp + 1e-8)\n",
    "recall = tp / (tp + fn + 1e-8)\n",
    "f1 = 2 * precision * recall / (precision + recall + 1e-8)\n",
    "map5 = np.mean(ap5_scores)\n",
    "\n",
    "\n",
    "print(f\"Precision (Top-5, Fuzzy): {precision:.4f}\")\n",
    "print(f\"Recall (Top-5, Fuzzy):    {recall:.4f}\")\n",
    "print(f\"F1 Score (Top-5, Fuzzy):  {f1:.4f}\")\n",
    "print(f\"MAP@5 (Fuzzy):            {map5:.4f}\")"
   ]
  }
 ],
 "metadata": {
  "kaggle": {
   "accelerator": "gpu",
   "dataSources": [
    {
     "datasetId": 7298274,
     "sourceId": 11632226,
     "sourceType": "datasetVersion"
    }
   ],
   "dockerImageVersionId": 31011,
   "isGpuEnabled": true,
   "isInternetEnabled": true,
   "language": "python",
   "sourceType": "notebook"
  },
  "kernelspec": {
   "display_name": "Python 3",
   "language": "python",
   "name": "python3"
  },
  "language_info": {
   "codemirror_mode": {
    "name": "ipython",
    "version": 3
   },
   "file_extension": ".py",
   "mimetype": "text/x-python",
   "name": "python",
   "nbconvert_exporter": "python",
   "pygments_lexer": "ipython3",
   "version": "3.11.11"
  }
 },
 "nbformat": 4,
 "nbformat_minor": 4
}
